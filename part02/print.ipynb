{
 "cells": [
  {
   "cell_type": "code",
   "execution_count": 1,
   "metadata": {},
   "outputs": [
    {
     "name": "stdout",
     "output_type": "stream",
     "text": [
      "안녕하세요 3 살입니다\n"
     ]
    }
   ],
   "source": [
    "# print(*value, sep, end)\n",
    "print(\"안녕하세요\", 3, \"살입니다\")"
   ]
  },
  {
   "cell_type": "code",
   "execution_count": 3,
   "metadata": {},
   "outputs": [
    {
     "name": "stdout",
     "output_type": "stream",
     "text": [
      "안녕하세요-3-살입니다\n"
     ]
    }
   ],
   "source": [
    "print(\"안녕하세요\", 3, \"살입니다\", sep=\"-\")"
   ]
  },
  {
   "cell_type": "code",
   "execution_count": 4,
   "metadata": {},
   "outputs": [
    {
     "name": "stdout",
     "output_type": "stream",
     "text": [
      "안녕하세요\n",
      "\n",
      "3\n",
      "\n",
      "살입니다.\n",
      "\n"
     ]
    }
   ],
   "source": [
    "print(\"안녕하세요\", end='\\n\\n')\n",
    "print(3, end='\\n\\n')\n",
    "print(\"살입니다.\", end='\\n\\n')"
   ]
  },
  {
   "cell_type": "code",
   "execution_count": null,
   "metadata": {},
   "outputs": [],
   "source": []
  }
 ],
 "metadata": {
  "kernelspec": {
   "display_name": "Python 3.10.1 64-bit",
   "language": "python",
   "name": "python3"
  },
  "language_info": {
   "codemirror_mode": {
    "name": "ipython",
    "version": 3
   },
   "file_extension": ".py",
   "mimetype": "text/x-python",
   "name": "python",
   "nbconvert_exporter": "python",
   "pygments_lexer": "ipython3",
   "version": "3.10.1"
  },
  "orig_nbformat": 4,
  "vscode": {
   "interpreter": {
    "hash": "ddcb6c37a1ce76f0659662666da2cd1ba83bea887bafb76bf752e250c5c3e1b1"
   }
  }
 },
 "nbformat": 4,
 "nbformat_minor": 2
}

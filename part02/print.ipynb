{
 "cells": [
  {
   "cell_type": "code",
   "execution_count": 1,
   "metadata": {},
   "outputs": [
    {
     "name": "stdout",
     "output_type": "stream",
     "text": [
      "1 2 3 머쓱이\n"
     ]
    }
   ],
   "source": [
    "# print(*values, sep, end)\n",
    "print(1, 2, 3, \"머쓱이\")"
   ]
  },
  {
   "cell_type": "code",
   "execution_count": 4,
   "metadata": {},
   "outputs": [
    {
     "name": "stdout",
     "output_type": "stream",
     "text": [
      "1\t2\t3\t머쓱이\n"
     ]
    }
   ],
   "source": [
    "print(1, 2, 3, \"머쓱이\", sep=\"\\t\")"
   ]
  },
  {
   "cell_type": "code",
   "execution_count": 7,
   "metadata": {},
   "outputs": [
    {
     "name": "stdout",
     "output_type": "stream",
     "text": [
      "1 2 3 머쓱이입니다테스트\n"
     ]
    }
   ],
   "source": [
    "print(1, 2, 3, \"머쓱이\", end='입니다')\n",
    "print(\"테스트\")"
   ]
  },
  {
   "cell_type": "code",
   "execution_count": 9,
   "metadata": {},
   "outputs": [
    {
     "name": "stdout",
     "output_type": "stream",
     "text": [
      "1\t2\t3\t머쓱이\n",
      "\n",
      "test\n"
     ]
    }
   ],
   "source": [
    "print(1, 2, 3, \"머쓱이\", sep=\"\\t\", end=\"\\n\\n\")\n",
    "print(\"test\")"
   ]
  },
  {
   "cell_type": "code",
   "execution_count": null,
   "metadata": {},
   "outputs": [],
   "source": []
  }
 ],
 "metadata": {
  "kernelspec": {
   "display_name": "Python 3.10.6 64-bit",
   "language": "python",
   "name": "python3"
  },
  "language_info": {
   "codemirror_mode": {
    "name": "ipython",
    "version": 3
   },
   "file_extension": ".py",
   "mimetype": "text/x-python",
   "name": "python",
   "nbconvert_exporter": "python",
   "pygments_lexer": "ipython3",
   "version": "3.10.6"
  },
  "orig_nbformat": 4,
  "vscode": {
   "interpreter": {
    "hash": "8407dd3bc249c7927c182ac247fac171f44bc523b855827b914808799dd153c7"
   }
  }
 },
 "nbformat": 4,
 "nbformat_minor": 2
}
